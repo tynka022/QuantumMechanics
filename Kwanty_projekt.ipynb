{
 "cells": [
  {
   "cell_type": "markdown",
   "metadata": {},
   "source": [
    "Projekt z Fizyki Kwantowej\n",
    "\n",
    "Rachunek zaburzeń niezależnych od czasu\n",
    "\n",
    "Anna Giszczak, Martyna Toborek"
   ]
  },
  {
   "cell_type": "code",
   "execution_count": 1,
   "metadata": {},
   "outputs": [],
   "source": [
    "import numpy as np\n",
    "import matplotlib.pyplot as plt\n",
    "import sympy as sp\n",
    "import math\n",
    "import sys\n",
    "from scipy.integrate import tplquad\n",
    "import cmath"
   ]
  },
  {
   "cell_type": "markdown",
   "metadata": {},
   "source": [
    "# $$\\text{Rachunek zaburzeń bez degeneracji}$$"
   ]
  },
  {
   "cell_type": "markdown",
   "metadata": {},
   "source": [
    "$$\\text{Przykład 1}$$"
   ]
  },
  {
   "cell_type": "markdown",
   "metadata": {},
   "source": [
    "$$\n",
    "V(x)=\\begin{cases}\n",
    "\t\t\tV_0, & \\text{x} \\in \\text{[0,a]}\\\\\n",
    "            \\infty, & \\text{wpp}\n",
    "\t\t \\end{cases}\n",
    "$$\n"
   ]
  },
  {
   "cell_type": "code",
   "execution_count": 2,
   "metadata": {},
   "outputs": [],
   "source": [
    "h = 6.5821*10**(-16)                #stała diraca\n",
    "m_e=0.5109*10**(6)/299792458**2     #masa elektronu\n",
    "x=sp.symbols(\"x\")\n",
    "y=sp.symbols('y')"
   ]
  },
  {
   "cell_type": "code",
   "execution_count": 3,
   "metadata": {},
   "outputs": [],
   "source": [
    "def Psi(n,a,x):\n",
    "    return np.sqrt(2/a)*sp.sin((n *np.pi)/a*x)   \n",
    "    \n",
    "def PerturbationEnergy (psi,H_p,b,c):\n",
    "    psi_n = psi\n",
    "    return sp.integrate(psi_n.conjugate()*H_p*psi_n,(x,b,c))\n",
    "    \n",
    "def IntegralToFunction(psi_m, H_p ,psi_n, b,c):\n",
    "    return sp.integrate(psi_m.conjugate()*H_p*psi_n,(x,b,c)) \n",
    "    \n",
    "def PerturbationFunction(integral, E_n, E_m, psi_m):\n",
    "    return integral*psi_m/(E_n-E_m)\n",
    "\n",
    "def E_n(n,a):\n",
    "    return n**2*np.pi**2*h**2/(2*m_e*a**2)"
   ]
  },
  {
   "cell_type": "markdown",
   "metadata": {},
   "source": [
    "Zacznijmy od najprostszego przykładu, czyli przesunięcie dna studni nieskończonego potencjału o wartość $V_0=3 \\cdot 10^{-5}eV$, dla stanu podstawowego."
   ]
  },
  {
   "cell_type": "code",
   "execution_count": 4,
   "metadata": {},
   "outputs": [],
   "source": [
    "V_01=3*10**(-5) #1eV=1.6*10**(-19)J  #oznaczenia --> _(przyklad)(n)_(rząd)\n",
    "n_11=1\n",
    "a=10**(-9)"
   ]
  },
  {
   "cell_type": "code",
   "execution_count": 5,
   "metadata": {},
   "outputs": [
    {
     "name": "stdout",
     "output_type": "stream",
     "text": [
      "Poprawka pierwszego rzędu 1 własności własnej obliczona tą metodą wynosi E_11p=0.0000300000000000000\n"
     ]
    }
   ],
   "source": [
    "E_11p= PerturbationEnergy(Psi(n_11,a,x),V_01, 0,a) #poprawka pierwszego rzędu n=1\n",
    "print(f'Poprawka pierwszego rzędu 1 własności własnej obliczona tą metodą wynosi E_11p={E_11p}') #3*10**(-5)"
   ]
  },
  {
   "cell_type": "code",
   "execution_count": 6,
   "metadata": {},
   "outputs": [
    {
     "name": "stdout",
     "output_type": "stream",
     "text": [
      "Energia całkowita w stanie podstawowym metodą rachunku zaburzeń niezależnych od czasu wynosi E_11c=0.376130754913151, a energia stanu niezaburzonego wynosi E_11=0.37610075491315115.\n"
     ]
    }
   ],
   "source": [
    "E_11c=E_n(1,a)+E_11p\n",
    "print(f'Energia całkowita w stanie podstawowym metodą rachunku zaburzeń niezależnych od czasu wynosi' +\n",
    "      f' E_11c={E_11c}, a energia stanu niezaburzonego wynosi E_11={E_n(1,a)}.')"
   ]
  },
  {
   "cell_type": "code",
   "execution_count": 7,
   "metadata": {},
   "outputs": [
    {
     "data": {
      "text/latex": [
       "$\\displaystyle - 2.37815845705084 \\sin{\\left(3141592653.58979 y \\right)} \\sin{\\left(6283185307.17959 y \\right)} \\sin{\\left(6283185307.17959 \\overline{y} \\right)} - 0.891809421394065 \\sin{\\left(3141592653.58979 y \\right)} \\sin{\\left(9424777960.76938 y \\right)} \\sin{\\left(9424777960.76938 \\overline{y} \\right)} - 0.475631691410168 \\sin{\\left(3141592653.58979 y \\right)} \\sin{\\left(12566370614.3592 y \\right)} \\sin{\\left(12566370614.3592 \\overline{y} \\right)}$"
      ],
      "text/plain": [
       "-2.37815845705084*sin(3141592653.58979*y)*sin(6283185307.17959*y)*sin(6283185307.17959*conjugate(y)) - 0.891809421394065*sin(3141592653.58979*y)*sin(9424777960.76938*y)*sin(9424777960.76938*conjugate(y)) - 0.475631691410168*sin(3141592653.58979*y)*sin(12566370614.3592*y)*sin(12566370614.3592*conjugate(y))"
      ]
     },
     "execution_count": 7,
     "metadata": {},
     "output_type": "execute_result"
    }
   ],
   "source": [
    "def sum_11(x):\n",
    "    sum_11 = sp.Function('sum_{11}')\n",
    "    for m in range(2,5):\n",
    "        if(m == 2):\n",
    "            sum_11=PerturbationFunction(IntegralToFunction(Psi(m,a,x), V_01, Psi(n_11,a,x),0,a),E_n(n_11,a),E_n(m,a),Psi(m,a,x)) \n",
    "        else:\n",
    "            sum_11+=PerturbationFunction(IntegralToFunction(Psi(m,a,x), V_01, Psi(n_11,a,x),0,a),E_n(n_11,a),E_n(m,a),Psi(m,a,x)) \n",
    "    return  sum_11\n",
    "sum_11(y) #poprawka funkcji"
   ]
  },
  {
   "cell_type": "code",
   "execution_count": 8,
   "metadata": {},
   "outputs": [
    {
     "name": "stdout",
     "output_type": "stream",
     "text": [
      "Funkcja zaburzona psi = -2.37815845705084*sin(3141592653.58979*y)*sin(6283185307.17959*y)*sin(6283185307.17959*conjugate(y)) - 0.891809421394065*sin(3141592653.58979*y)*sin(9424777960.76938*y)*sin(9424777960.76938*conjugate(y)) - 0.475631691410168*sin(3141592653.58979*y)*sin(12566370614.3592*y)*sin(12566370614.3592*conjugate(y)) + 44721.3595499958*sin(3141592653.58979*y)\n",
      "Funkcja niezburzona wynosi psi = 44721.3595499958*sin(3141592653.58979*x)\n"
     ]
    }
   ],
   "source": [
    "def psi_11(x):\n",
    "    return (Psi(n_11,a,x) + sum_11(x))\n",
    "    \n",
    "print(f'Funkcja zaburzona psi = {psi_11(y)}')\n",
    "print(f'Funkcja niezburzona wynosi psi = {Psi(n_11,a,x)}')"
   ]
  },
  {
   "cell_type": "code",
   "execution_count": 9,
   "metadata": {},
   "outputs": [
    {
     "data": {
      "image/png": "[encoded data removed]",
      "text/plain": [
       "<Figure size 720x360 with 1 Axes>"
      ]
     },
     "metadata": {
      "needs_background": "light"
     },
     "output_type": "display_data"
    }
   ],
   "source": [
    "r = np.linspace(0, a, 1000) #r=x\n",
    "\n",
    "pies=0\n",
    "kot=[]\n",
    "\n",
    "for i in range(0,1000):\n",
    "    pies = psi_11(r[i])\n",
    "    kot.append(pies)\n",
    "\n",
    "\n",
    "mysz=0    \n",
    "chomik=[]\n",
    "for j in range(0,1000):\n",
    "    mysz = Psi(n_11,a,r[j])\n",
    "    chomik.append(mysz)\n",
    "\n",
    "\n",
    "fig = plt.figure(figsize = (10,5))\n",
    "line1 = plt.plot(r, kot , 'C0', linewidth = 2, label=f'Phi zaburzone')\n",
    "line2 = plt.plot(r, chomik, 'C1', linewidth = 2, label=f'Phi niezaburzone')\n",
    "plt.xlabel('x')\n",
    "plt.legend()\n",
    "plt.ylabel('Psi')\n",
    "plt.grid(linestyle = '--', linewidth = 1)"
   ]
  },
  {
   "cell_type": "code",
   "execution_count": 10,
   "metadata": {},
   "outputs": [
    {
     "name": "stdout",
     "output_type": "stream",
     "text": [
      " Poprawka energii pierwszego rzędu 2 własności własnej obliczona tą metodą wynosi E_12p=0.0000300000000000000.\n"
     ]
    }
   ],
   "source": [
    "n_12=2\n",
    "\n",
    "E_12p=PerturbationEnergy(Psi(n_12,a,x),V_01, 0,a)\n",
    "\n",
    "print(f' Poprawka energii pierwszego rzędu 2 własności własnej obliczona tą metodą wynosi E_12p={E_12p}.')"
   ]
  },
  {
   "cell_type": "markdown",
   "metadata": {},
   "source": [
    "Z tego możemy też stwierdzić, że poprawka energii dla każdego stanu wynosi $V_0$."
   ]
  },
  {
   "cell_type": "code",
   "execution_count": 11,
   "metadata": {},
   "outputs": [
    {
     "name": "stdout",
     "output_type": "stream",
     "text": [
      "Poprawka pierwszego rzędu 2 funkcji własnej wynosi Psi_12p=8.94563786119523e-33*sin(9424777960.76938*x) + 1.06495688823753e-33*sin(15707963267.949*x)\n"
     ]
    }
   ],
   "source": [
    "sum_12 =0\n",
    "for m in range(3,6):\n",
    "    sum_12+=PerturbationFunction(IntegralToFunction(Psi(m,a,x), V_01, Psi(n_12,a,x),0,a),E_n(n_12,a),E_n(m,a),Psi(m,a,x))\n",
    "\n",
    "print(f'Poprawka pierwszego rzędu 2 funkcji własnej wynosi Psi_12p={sum_12}')"
   ]
  },
  {
   "cell_type": "markdown",
   "metadata": {},
   "source": [
    "$$\\text{Przykład 2}$$"
   ]
  },
  {
   "cell_type": "markdown",
   "metadata": {},
   "source": [
    "$$\n",
    "V(x)=\\begin{cases}\n",
    "\t\t\tV_0, & \\text{x} \\in [0,\\frac{a}{2}]\\\\\n",
    "            0, & \\text{x} \\in [\\frac{a}{2},a]\\\\\n",
    "            \\infty & \\text{wpp}\n",
    "\t\t \\end{cases}\n",
    "$$"
   ]
  },
  {
   "cell_type": "code",
   "execution_count": 12,
   "metadata": {},
   "outputs": [],
   "source": [
    "def PerturbationEnergy2(integral, E_n, E_m):\n",
    "    return np.absolute(integral)**2/(E_n-E_m)"
   ]
  },
  {
   "cell_type": "code",
   "execution_count": 13,
   "metadata": {},
   "outputs": [
    {
     "name": "stdout",
     "output_type": "stream",
     "text": [
      "Poprawka pierwszego rzędu 1 wartości własnej wynosi E_21p=0.0000150000000000000\n"
     ]
    }
   ],
   "source": [
    "V_02= 3*10**(-5)\n",
    "n_21 = 1\n",
    "\n",
    "E_21p= PerturbationEnergy(Psi(n_21,a,x),V_02, 0,a/2)\n",
    "print(f'Poprawka pierwszego rzędu 1 wartości własnej wynosi E_21p={E_21p}')"
   ]
  },
  {
   "cell_type": "markdown",
   "metadata": {},
   "source": [
    "W tym przykładzie wartość energii będzie wzrastać dokładnie o 1/2 $\\cdot V_0$."
   ]
  },
  {
   "cell_type": "code",
   "execution_count": 14,
   "metadata": {},
   "outputs": [
    {
     "name": "stdout",
     "output_type": "stream",
     "text": [
      "Poprawka drugiego rzędu 1 wartości własnej wynosi E_21_2p=-1.43679489879581E-10\n"
     ]
    }
   ],
   "source": [
    "E_21_2p= 0\n",
    "for m in range(2,3):\n",
    "    E_21_2p+=PerturbationEnergy2(IntegralToFunction(Psi(m,a,x), V_02, Psi(n_21,a,x),0,a*0.5),E_n(1,a), E_n(m,a))\n",
    "            \n",
    "print(f'Poprawka drugiego rzędu 1 wartości własnej wynosi E_21_2p={E_21_2p}')"
   ]
  },
  {
   "cell_type": "code",
   "execution_count": 15,
   "metadata": {},
   "outputs": [
    {
     "name": "stdout",
     "output_type": "stream",
     "text": [
      "Energia całkowita w stanie podstawowym metodą rachunku zaburzeń niezależnych od czasu wynosi E_21c=0.376115754769472, gdzie energia stanu niezaburzonego wynosi E_21=0.37610075491315115.\n"
     ]
    }
   ],
   "source": [
    "E_21c = E_21p + E_21_2p +E_n(1,a)\n",
    "\n",
    "print(f'Energia całkowita w stanie podstawowym metodą rachunku zaburzeń niezależnych od czasu wynosi'+\n",
    "      f' E_21c={E_21c}, gdzie energia stanu niezaburzonego wynosi E_21={E_n(1,a)}.')"
   ]
  },
  {
   "cell_type": "code",
   "execution_count": 16,
   "metadata": {},
   "outputs": [
    {
     "name": "stdout",
     "output_type": "stream",
     "text": [
      "Poprawka pierwszego rzędu 1 funkcji własnej wynosi Psi_21p=-0.504660898527248*sin(6283185307.17959*x) - 1.73821318322687e-17*sin(9424777960.76938*x) + 0.0403728718821799*sin(12566370614.3592*x)\n"
     ]
    }
   ],
   "source": [
    "def sum_21(x):\n",
    "    sum_21=0\n",
    "    for m in range(2,5):\n",
    "        sum_21+=PerturbationFunction(IntegralToFunction(Psi(m,a,x), V_02, Psi(n_11,a,x),0,a/2),E_n(n_21,a),E_n(m,a),Psi(m,a,x))    \n",
    "    return sum_21\n",
    "\n",
    "print(f'Poprawka pierwszego rzędu 1 funkcji własnej wynosi Psi_21p={sum_21(x)}')"
   ]
  },
  {
   "cell_type": "code",
   "execution_count": 17,
   "metadata": {},
   "outputs": [
    {
     "name": "stdout",
     "output_type": "stream",
     "text": [
      "Funkcja niezburzona wynosi psi = 44721.3595499958*sin(3141592653.58979*x)\n",
      "Funkcja zaburzona psi = 44721.3595499958*sin(3141592653.58979*x) - 0.504660898527248*sin(6283185307.17959*x) - 1.73821318322687e-17*sin(9424777960.76938*x) + 0.0403728718821799*sin(12566370614.3592*x)\n"
     ]
    }
   ],
   "source": [
    "def psi_21(x):\n",
    "    return (Psi(n_21,a,x) + sum_21(x))\n",
    "\n",
    "print(f'Funkcja niezburzona wynosi psi = {Psi(n_21,a,x)}')\n",
    "print(f'Funkcja zaburzona psi = {psi_21(x)}')"
   ]
  },
  {
   "cell_type": "code",
   "execution_count": 18,
   "metadata": {},
   "outputs": [
    {
     "data": {
      "image/png": "[encoded data removed]",
      "text/plain": [
       "<Figure size 720x360 with 1 Axes>"
      ]
     },
     "metadata": {
      "needs_background": "light"
     },
     "output_type": "display_data"
    }
   ],
   "source": [
    "r2 = np.linspace(0, a, 1000) #r=x #a\n",
    "\n",
    "pies2=0\n",
    "kot2=[]\n",
    "\n",
    "for i in range(0,1000):\n",
    "    pies2 = psi_21(r2[i])\n",
    "    kot2.append(pies2)\n",
    "\n",
    "mysz2=0    \n",
    "chomik2=[]\n",
    "for j in range(0,1000):\n",
    "    mysz2 = Psi(n_21,a,r2[j])\n",
    "    chomik2.append(mysz2)\n",
    "\n",
    "\n",
    "fig2 = plt.figure(figsize = (10,5))\n",
    "line12 = plt.plot(r2, kot2 , 'C0', linewidth = 2,label=f'Phi zaburzone')\n",
    "line22 = plt.plot(r2, chomik2, 'C1', linewidth = 2, label=f'Phi niezaburzone')\n",
    "plt.xlabel('x')\n",
    "plt.legend()\n",
    "plt.ylabel('Psi')\n",
    "plt.grid(linestyle = '--', linewidth = 1)"
   ]
  },
  {
   "cell_type": "code",
   "execution_count": 19,
   "metadata": {},
   "outputs": [
    {
     "name": "stdout",
     "output_type": "stream",
     "text": [
      " Poprawka energii pierwszego rzędu 2 własności własnej obliczona tą metodą wynosi E_22_1p=0.0000150000000000000.\n"
     ]
    }
   ],
   "source": [
    "n_22=2\n",
    "\n",
    "E_22_1p=PerturbationEnergy(Psi(n_12,a,x),V_01, 0,a/2)\n",
    "\n",
    "print(f' Poprawka energii pierwszego rzędu 2 własności własnej obliczona tą metodą wynosi E_22_1p={E_22_1p}.')"
   ]
  },
  {
   "cell_type": "code",
   "execution_count": 20,
   "metadata": {},
   "outputs": [
    {
     "name": "stdout",
     "output_type": "stream",
     "text": [
      "Poprawka pierwszego rzędu 2 funkcji własnej wynosi Psi_22p=-0.181677923469809*sin(9424777960.76938*x) + 0.0102992020107602*sin(15707963267.949*x)\n"
     ]
    }
   ],
   "source": [
    "sum_22 =0\n",
    "for m in range(3,6):\n",
    "    sum_22+=PerturbationFunction(IntegralToFunction(Psi(m,a,x), V_01, Psi(n_12,a,x),0,a/2),E_n(n_12,a),E_n(m,a),Psi(m,a,x))\n",
    "\n",
    "print(f'Poprawka pierwszego rzędu 2 funkcji własnej wynosi Psi_22p={sum_22}')"
   ]
  },
  {
   "cell_type": "markdown",
   "metadata": {},
   "source": [
    "$$\\text{Przykład 3}$$"
   ]
  },
  {
   "cell_type": "markdown",
   "metadata": {},
   "source": [
    "$$H'=\\alpha \\delta(x-a/4)+\\alpha \\delta(x-3a/4)$$"
   ]
  },
  {
   "cell_type": "code",
   "execution_count": 47,
   "metadata": {},
   "outputs": [],
   "source": [
    "alpha = 1*10**(-15)\n",
    "n_31 = 1"
   ]
  },
  {
   "cell_type": "code",
   "execution_count": 48,
   "metadata": {},
   "outputs": [],
   "source": [
    "def FunctionWithDirack (n1,n2,d):\n",
    "    return Psi(n1,a,d)*Psi(n2,a,d)"
   ]
  },
  {
   "cell_type": "code",
   "execution_count": 49,
   "metadata": {},
   "outputs": [
    {
     "name": "stdout",
     "output_type": "stream",
     "text": [
      "Poprawka pierwszego rzędu 1 wartości własnej wynosi E_31p=0.00000200000000000000\n"
     ]
    }
   ],
   "source": [
    "E_31p=alpha*FunctionWithDirack(n_31,n_31,a/4) +alpha*FunctionWithDirack(n_31,n_31,3*a/4)\n",
    "print(f'Poprawka pierwszego rzędu 1 wartości własnej wynosi E_31p={E_31p}')"
   ]
  },
  {
   "cell_type": "code",
   "execution_count": 50,
   "metadata": {},
   "outputs": [
    {
     "name": "stdout",
     "output_type": "stream",
     "text": [
      "Poprawka drugiego rzędu 1 wartości własnej wynosi E_31_2p=-3.97424983178146E-44\n"
     ]
    }
   ],
   "source": [
    "E_31_2p= 0\n",
    "for m in range(2,3):\n",
    "    E_31_2p+=(alpha*FunctionWithDirack(m, n_31,a/4)+alpha*FunctionWithDirack(m,n_31, 3*a/4))**2/(E_n(1,a) - E_n(m,a))\n",
    "            \n",
    "print(f'Poprawka drugiego rzędu 1 wartości własnej wynosi E_31_2p={E_31_2p}')"
   ]
  },
  {
   "cell_type": "code",
   "execution_count": 52,
   "metadata": {},
   "outputs": [
    {
     "name": "stdout",
     "output_type": "stream",
     "text": [
      "Energia całkowita w stanie podstawowym metodą rachunku zaburzeń niezależnych od czasu wynosi E_31c=0.376102754913151, gdzie energia stanu niezaburzonego wynosi E_31=0.37610075491315115.\n"
     ]
    }
   ],
   "source": [
    "E_31c = E_31p + E_31_2p +E_n(1,a)\n",
    "\n",
    "print(f'Energia całkowita w stanie podstawowym metodą rachunku zaburzeń niezależnych od czasu wynosi'+\n",
    "      f' E_31c={E_31c}, gdzie energia stanu niezaburzonego wynosi E_31={E_n(1,a)}.')\n"
   ]
  },
  {
   "cell_type": "code",
   "execution_count": 53,
   "metadata": {},
   "outputs": [
    {
     "name": "stdout",
     "output_type": "stream",
     "text": [
      "Poprawka pierwszego rzędu 1 funkcji własnej wynosi Psi_31p=8.3932440288063e-18*sin(6283185307.17959*z)\n"
     ]
    }
   ],
   "source": [
    "y=sp.symbols('z')\n",
    "def sum_31(x):\n",
    "    sum_31 = sp.Function('sum_{31}')\n",
    "    for m in range(2,3):\n",
    "        if(m == 2):\n",
    "            sum_31=(alpha*FunctionWithDirack(m, n_31,a/4)+alpha*FunctionWithDirack(m,n_31, 3*a/4))*Psi(m,a,x)/(E_n(1,a) - E_n(m,a))\n",
    "        else:\n",
    "            sum_31+= (alpha*FunctionWithDirack(m, n_31,a/4)+alpha*FunctionWithDirack(m,n_31, 3*a/4))*Psi(m,a,x)/(E_n(1,a) - E_n(m,a))\n",
    "    return  sum_31\n",
    "    \n",
    "print(f'Poprawka pierwszego rzędu 1 funkcji własnej wynosi Psi_31p={sum_31(y)}')"
   ]
  },
  {
   "cell_type": "code",
   "execution_count": 54,
   "metadata": {},
   "outputs": [
    {
     "name": "stdout",
     "output_type": "stream",
     "text": [
      "Funkcja zaburzona psi = 44721.3595499958*sin(3141592653.58979*x) + 8.3932440288063e-18*sin(6283185307.17959*x)\n",
      "Funkcja niezburzona wynosi psi = 44721.3595499958*sin(3141592653.58979*x)\n"
     ]
    }
   ],
   "source": [
    "def psi_31(x):\n",
    "    \n",
    "    return (Psi(n_31,a,x) + sum_31(x)) \n",
    "\n",
    "print(f'Funkcja zaburzona psi = {psi_31(x)}')\n",
    "print(f'Funkcja niezburzona wynosi psi = {Psi(n_31,a,x)}')"
   ]
  },
  {
   "cell_type": "code",
   "execution_count": 55,
   "metadata": {},
   "outputs": [
    {
     "data": {
      "image/png": "[encoded data removed]",
      "text/plain": [
       "<Figure size 720x360 with 1 Axes>"
      ]
     },
     "metadata": {
      "needs_background": "light"
     },
     "output_type": "display_data"
    }
   ],
   "source": [
    "r3 = np.linspace(0, a, 1000) #r=x\n",
    "\n",
    "pies3=0\n",
    "kot3=[]\n",
    "\n",
    "for i in range(0,1000):\n",
    "    pies3 = psi_31(r3[i])\n",
    "    kot3.append(pies3)\n",
    "\n",
    "mysz3=0    \n",
    "chomik3=[]\n",
    "for j in range(0,1000):\n",
    "    mysz3 = Psi(n_31,a,r3[j])\n",
    "    chomik3.append(mysz3)\n",
    "\n",
    "\n",
    "fig3 = plt.figure(figsize = (10,5))\n",
    "line13 = plt.plot(r3, kot3 , 'C0', linewidth = 2, label=f'Phi zaburzone')\n",
    "line23 = plt.plot(r3, chomik3, 'C1', linewidth = 2, label=f'Phi niezaburzone')\n",
    "plt.xlabel('x')\n",
    "plt.legend()\n",
    "# plt.ylim(-1,1)\n",
    "# plt.xlim(np.min(x), np.max(x))\n",
    "plt.ylabel('Psi')\n",
    "plt.grid(linestyle = '--', linewidth = 1)"
   ]
  },
  {
   "cell_type": "markdown",
   "metadata": {},
   "source": [
    "$$\\text{Przykład 4}$$"
   ]
  },
  {
   "cell_type": "markdown",
   "metadata": {},
   "source": [
    "$$\\text{Efekt Starka w atomie wodoru}$$"
   ]
  },
  {
   "cell_type": "markdown",
   "metadata": {},
   "source": [
    "Jest to zjawisko fizyczne polegające na rozszczepieniu oraz przesunięciu linii spektralnych atomu lub cząsteczki wysyłających lub absorbujących kwanty świetlne wywołane oddziaływaniem pola elektrycznego."
   ]
  },
  {
   "cell_type": "markdown",
   "metadata": {},
   "source": [
    "$$H'=-e\\varepsilon r \\cos{\\theta}$$"
   ]
  },
  {
   "cell_type": "markdown",
   "metadata": {},
   "source": [
    "n = 1,2,3,..    ;   l=0,1,2,...,(n-1)       ;        $m\\in (-l;l)$"
   ]
  },
  {
   "cell_type": "code",
   "execution_count": 38,
   "metadata": {},
   "outputs": [
    {
     "data": {
      "text/latex": [
       "$\\displaystyle 0$"
      ],
      "text/plain": [
       "0"
      ]
     },
     "execution_count": 38,
     "metadata": {},
     "output_type": "execute_result"
    }
   ],
   "source": [
    "#n_5=1 => l=0 => m=0\n",
    "e=sp.symbols('e',real=True) #ładunek elektronu\n",
    "epsilon=sp.symbols('\\u03B5',real=True) #energia pola elektrycznego\n",
    "r=sp.symbols('r', real=True, positive=True)\n",
    "teta=sp.symbols('\\u03B8', real=True, positive=True)\n",
    "fi=sp.symbols('\\u03C6', real=True, positive=True)\n",
    "a_0=0.5*10**(-10) #odległość pierwszej orbity atomu wodoru\n",
    "\n",
    "H_p5=-e*epsilon*r*sp.cos(teta)  \n",
    "\n",
    "psi51_00=1/(sp.sqrt(sp.pi*a_0**3))*sp.exp(-r/a_0)\n",
    "\n",
    "E_51=sp.integrate(sp.integrate(sp.integrate(psi51_00.conjugate()*H_p5*psi51_00,(fi,0,2*sp.pi)),(teta,0,sp.pi)),(r,0,np.inf))\n",
    "E_51"
   ]
  },
  {
   "cell_type": "markdown",
   "metadata": {},
   "source": [
    "W efekcie Starka dla n=2 zachodzi degenracja. "
   ]
  },
  {
   "cell_type": "markdown",
   "metadata": {},
   "source": [
    "$$\\text{Rachunek zaburzeń z degeneracją}$$"
   ]
  },
  {
   "cell_type": "markdown",
   "metadata": {},
   "source": [
    "$$\\text{Przykład 5}$$"
   ]
  },
  {
   "cell_type": "markdown",
   "metadata": {},
   "source": [
    "$$\\text{Efekt Starka w atomie wodoru z degeneracją}$$"
   ]
  },
  {
   "cell_type": "markdown",
   "metadata": {},
   "source": [
    "Elementy macierzy zawierające funkcje:"
   ]
  },
  {
   "cell_type": "code",
   "execution_count": 60,
   "metadata": {},
   "outputs": [],
   "source": [
    "n_5=2 #=> l=0 v l=1 => m =-1 v m=0 v m=1\n",
    "\n",
    "E_52p=sp.symbols('E')\n",
    "\n",
    "psi52_00=1/sp.sqrt(8*sp.pi*a_0**3)*(1-r/(2*a_0))*sp.exp(-r/(2*a_0))\n",
    "\n",
    "psi52_1_1 = 1/(sp.sqrt(sp.pi*a_0**3))*(r/(8*a_0))*sp.sin(teta)*sp.exp(-r/(2*a_0))*sp.exp(-i*fi) #*im_1_1\n",
    "\n",
    "psi52_10=1/sp.sqrt(8*sp.pi*a_0**3)*(r/(2*a_0))*sp.cos(teta)*sp.exp(-r/(2*a_0))\n",
    "\n",
    "psi52_11= 1/(sp.sqrt(sp.pi*a_0**3))*(r/(8*a_0))*sp.sin(teta)*sp.exp(-r/(2*a_0))*sp.exp(i*fi) #*im_11\n"
   ]
  },
  {
   "cell_type": "code",
   "execution_count": 61,
   "metadata": {},
   "outputs": [
    {
     "data": {
      "text/latex": [
       "$\\displaystyle - 1.0 i + 1.0 i e^{- 2.0 i \\pi}$"
      ],
      "text/plain": [
       "-1.0*I + 1.0*I*exp(-2.0*I*pi)"
      ]
     },
     "execution_count": 61,
     "metadata": {},
     "output_type": "execute_result"
    }
   ],
   "source": [
    "calkaFi = sp.integrate(sp.exp(-1j*fi),(fi,0,2*sp.pi))\n",
    "calkaFi"
   ]
  },
  {
   "cell_type": "markdown",
   "metadata": {},
   "source": [
    "równają się zero, także te elementy macierzy się zerują"
   ]
  },
  {
   "cell_type": "code",
   "execution_count": 62,
   "metadata": {},
   "outputs": [
    {
     "data": {
      "text/latex": [
       "$\\displaystyle \\left[\\begin{matrix}- E & 0 & 1.5 \\cdot 10^{-10} e ε & 0\\\\0 & - E & 0 & 0\\\\1.5 \\cdot 10^{-10} e ε & 0 & - E & 0\\\\0 & 0 & 0 & - E\\end{matrix}\\right]$"
      ],
      "text/plain": [
       "Matrix([\n",
       "[         -E,  0, 1.5e-10*e*ε,  0],\n",
       "[          0, -E,           0,  0],\n",
       "[1.5e-10*e*ε,  0,          -E,  0],\n",
       "[          0,  0,           0, -E]])"
      ]
     },
     "execution_count": 62,
     "metadata": {},
     "output_type": "execute_result"
    }
   ],
   "source": [
    "Maa=sp.integrate(sp.integrate(sp.integrate(psi52_00*H_p5*psi52_00*r**2*sp.sin(teta),(r,0,sp.oo)),(fi,0,2*sp.pi)),(teta,0,sp.pi))\n",
    "\n",
    "Mab=0\n",
    "\n",
    "Mac=sp.integrate(sp.integrate(sp.integrate(psi52_00*H_p5*psi52_10*r**2*sp.sin(teta),(r,0,sp.oo)),(fi,0,2*sp.pi)),(teta,0,sp.pi))\n",
    "\n",
    "Mad=0\n",
    "\n",
    "Mba=0\n",
    "\n",
    "Mbb=0\n",
    "\n",
    "Mbc=0\n",
    "\n",
    "Mbd=0\n",
    "\n",
    "Mca=sp.integrate(sp.integrate(sp.integrate(psi52_10*H_p5*psi52_00*r**2*sp.sin(teta),(r,0,sp.oo)),(fi,0,2*sp.pi)),(teta,0,sp.pi))\n",
    "\n",
    "Mcb=0\n",
    "\n",
    "Mcc=sp.integrate(sp.integrate(sp.integrate(psi52_10*H_p5*psi52_10*r**2*sp.sin(teta),(r,0,sp.oo)),(fi,0,2*sp.pi)),(teta,0,sp.pi))\n",
    "\n",
    "Mcd=0\n",
    "\n",
    "Mda=0\n",
    "\n",
    "Mdb=0\n",
    "\n",
    "Mdc=0\n",
    "\n",
    "Mdd=0\n",
    "\n",
    "M = sp.Matrix([[Maa-E_52p, Mab, Mac, Mad],\n",
    "              [Mba, Mbb-E_52p, Mbc, Mbd],\n",
    "              [Mca, Mcb, Mcc-E_52p, Mcd],\n",
    "              [Mda, Mdb, Mdc, Mdd-E_52p]])\n",
    "M"
   ]
  },
  {
   "cell_type": "code",
   "execution_count": 63,
   "metadata": {},
   "outputs": [
    {
     "data": {
      "text/plain": [
       "[0.0, -1.5e-10*e*ε, 1.5e-10*e*ε]"
      ]
     },
     "execution_count": 63,
     "metadata": {},
     "output_type": "execute_result"
    }
   ],
   "source": [
    "eq1=sp.Eq(M.det(),0)\n",
    "solutions = sp.solve((eq1),(E_52p))\n",
    "solutions"
   ]
  },
  {
   "cell_type": "code",
   "execution_count": 64,
   "metadata": {},
   "outputs": [
    {
     "name": "stdout",
     "output_type": "stream",
     "text": [
      "Poprawki pierwszego rzędu 1 wartości własnej wynoszą E_52p^+=1.5e-10*e*ε i E_52p^-=-1.5e-10*e*ε dla m=0 oraz E_52p^0=0.0 dla m=+/-1. Natomiast całkowite wartości energi są równe odpowiednio E_52cp = 1.5e-10*e*ε + 3.4, E_52cm = -1.5e-10*e*ε + 3.4 i E_52cs=3.40000000000000. \n"
     ]
    }
   ],
   "source": [
    "E_50 = sp.sympify(13.6*1/(n_5**2))#eV\n",
    "\n",
    "E_52cp = solutions[2] + E_50 #dla m=0\n",
    "E_52cm = solutions[1] + E_50 #dla m=0\n",
    "E_52cs = solutions[0] + E_50 #dla m=+/- 1\n",
    "print(f'Poprawki pierwszego rzędu 1 wartości własnej wynoszą E_52p^+={solutions[2]} i E_52p^-={solutions[1]} '+\n",
    "      f'dla m=0 oraz E_52p^0={solutions[0]} dla m=+/-1. Natomiast całkowite wartości energi są równe odpowiednio '+\n",
    "      f'E_52cp = {E_52cp}, E_52cm = {E_52cm} i E_52cs={E_52cs}. ')"
   ]
  },
  {
   "cell_type": "markdown",
   "metadata": {},
   "source": [
    "Skorzystamy ze wzorów na obliczenie funkcji własnych dla danych energii"
   ]
  },
  {
   "cell_type": "code",
   "execution_count": 65,
   "metadata": {},
   "outputs": [],
   "source": [
    "#Dla energii (+) E_52cp\n",
    "Psi_52p = 1/sp.sqrt(2)*(psi52_00-psi52_10)\n",
    "#Dla energii (-) E_52cm\n",
    "Psi_52m = 1/sp.sqrt(2)*(psi52_00+psi52_10)"
   ]
  },
  {
   "cell_type": "code",
   "execution_count": 66,
   "metadata": {},
   "outputs": [
    {
     "data": {
      "text/latex": [
       "$\\displaystyle \\frac{\\sqrt{2} \\left(- \\frac{1.0 \\cdot 10^{25} r e^{- 10000000000.0 r} \\cos{\\left(θ \\right)}}{\\sqrt{\\pi}} + \\frac{1.0 \\cdot 10^{15} \\left(1 - 10000000000.0 r\\right) e^{- 10000000000.0 r}}{\\sqrt{\\pi}}\\right)}{2}$"
      ],
      "text/plain": [
       "sqrt(2)*(-1.0e+25*r*exp(-10000000000.0*r)*cos(θ)/sqrt(pi) + 1.0e+15*(1 - 10000000000.0*r)*exp(-10000000000.0*r)/sqrt(pi))/2"
      ]
     },
     "execution_count": 66,
     "metadata": {},
     "output_type": "execute_result"
    }
   ],
   "source": [
    "Psi_52p"
   ]
  },
  {
   "cell_type": "code",
   "execution_count": 67,
   "metadata": {},
   "outputs": [
    {
     "data": {
      "text/latex": [
       "$\\displaystyle \\frac{\\sqrt{2} \\left(\\frac{1.0 \\cdot 10^{25} r e^{- 10000000000.0 r} \\cos{\\left(θ \\right)}}{\\sqrt{\\pi}} + \\frac{1.0 \\cdot 10^{15} \\left(1 - 10000000000.0 r\\right) e^{- 10000000000.0 r}}{\\sqrt{\\pi}}\\right)}{2}$"
      ],
      "text/plain": [
       "sqrt(2)*(1.0e+25*r*exp(-10000000000.0*r)*cos(θ)/sqrt(pi) + 1.0e+15*(1 - 10000000000.0*r)*exp(-10000000000.0*r)/sqrt(pi))/2"
      ]
     },
     "execution_count": 67,
     "metadata": {},
     "output_type": "execute_result"
    }
   ],
   "source": [
    "Psi_52m"
   ]
  },
  {
   "cell_type": "markdown",
   "metadata": {},
   "source": [
    "$$\\text{Przykład 6}$$"
   ]
  },
  {
   "cell_type": "markdown",
   "metadata": {},
   "source": [
    "Podwójna studnia nieskończona ( ściany w punktach: $x=-\\frac{L}{2}$, $x=0$, $x=\\frac{L}{2}$, gdzie L - szerokość studni, s-szerokość zaburzenia)"
   ]
  },
  {
   "cell_type": "markdown",
   "metadata": {},
   "source": [
    "$$\n",
    "H_p(x)=\\begin{cases}\n",
    "\t\t\t0, & \\text{x} \\in (-\\frac{L}{2},-\\frac{s}{2})\\\\\n",
    "            -V_0, & \\text{x} \\in (-\\frac{s}{2},0)\\\\\n",
    "            V_0, & \\text{x} \\in (0, \\frac{s}{2})\\\\\n",
    "            0, & \\text{x} \\in (\\frac{s}{2},\\frac{L}{2})\\\\\n",
    "            \\infty & \\text{wpp}\n",
    "\t\t \\end{cases}\n",
    "$$"
   ]
  },
  {
   "cell_type": "markdown",
   "metadata": {},
   "source": [
    "Znormalizowane stany podstawowe funkcji niezaburzonej\n",
    "$$\n",
    "\\varphi(x)=\\begin{cases}\n",
    "\t\t\tr = \\sqrt{\\frac{4}{L}}\\sin{\\frac{2\\pi x}{L}}, & \\text{x} \\in (0,\\frac{L}{2})\\\\\n",
    "            l = -\\sqrt{\\frac{4}{L}}\\sin{\\frac{2\\pi x}{L}}, & \\text{x} \\in (-\\frac{L}{2},0)\\\\\n",
    "             \\infty & \\text{wpp}\n",
    "\t\t \\end{cases}\n",
    "$$"
   ]
  },
  {
   "cell_type": "markdown",
   "metadata": {},
   "source": [
    "Funkcja niezaburzona stanu podstawowy\n",
    "\n",
    "$$E = 4\\frac{\\hbar^2 \\pi^2}{2mL^2}$$"
   ]
  },
  {
   "cell_type": "markdown",
   "metadata": {},
   "source": [
    "Nasz wzrór ogólny wygląda następująco:\n",
    "$$E^1_{\\pm} = W_{rr}+W_{ll}\\pm\\sqrt{(W_{rr}-W_{ll})^2+4|W_{rl}|^2}$$"
   ]
  },
  {
   "cell_type": "markdown",
   "metadata": {},
   "source": [
    "Na potrzeby zadania możemy uprościć powyższy ogólny wzór, wiedząc, że:\n",
    "$$ W_{rl}=W_{lr}=0 $$\n",
    "$$ W_{rr}=-W_{ll} $$"
   ]
  },
  {
   "cell_type": "code",
   "execution_count": 68,
   "metadata": {},
   "outputs": [],
   "source": [
    "def PlusDegeneratedEnergy (W_rr): #+epsilon_b\n",
    "    return W_rr\n",
    "\n",
    "def MinusDegeneratedEnergy (W_rr): #-epsilon_b\n",
    "    return -W_rr"
   ]
  },
  {
   "cell_type": "code",
   "execution_count": 69,
   "metadata": {},
   "outputs": [],
   "source": [
    "L = 10**(-9)\n",
    "La = 10**(-9)/2\n",
    "V_04 = 1.5061*10**(-4)"
   ]
  },
  {
   "cell_type": "code",
   "execution_count": 70,
   "metadata": {},
   "outputs": [
    {
     "name": "stdout",
     "output_type": "stream",
     "text": [
      "Poprawki pierwszego rzędu 1 wartości własnej wynosi  E_41p = 0.0000753050000000000 lub -0.0000753050000000000\n"
     ]
    }
   ],
   "source": [
    "E_41plus = PlusDegeneratedEnergy(IntegralToFunction(Psi(1,L/2,x), V_04, Psi(1,L/2,x) , 0,La/2))\n",
    "\n",
    "E_41minus = MinusDegeneratedEnergy(IntegralToFunction(Psi(1,L/2,x), V_04, Psi(1,L/2,x) , 0,La/2) )\n",
    "print(f'Poprawki pierwszego rzędu 1 wartości własnej wynosi  E_41p = {E_41plus} lub {E_41minus}')"
   ]
  },
  {
   "cell_type": "code",
   "execution_count": 71,
   "metadata": {},
   "outputs": [
    {
     "name": "stdout",
     "output_type": "stream",
     "text": [
      "Energia całkowita zaburzonej studni nieskończonej wynosi Eb+=1.50447832465260 Eb-=1.50432771465260\n"
     ]
    }
   ],
   "source": [
    "E_41cp = (E_41plus + E_n(1,L/2))\n",
    "E_41cm = (E_41minus + E_n(1,L/2))\n",
    "print(f'Energia całkowita zaburzonej studni nieskończonej wynosi Eb+={E_41cp} Eb-={E_41cm}')"
   ]
  }
 ],
 "metadata": {
  "kernelspec": {
   "display_name": "Python 3 (ipykernel)",
   "language": "python",
   "name": "python3"
  },
  "language_info": {
   "codemirror_mode": {
    "name": "ipython",
    "version": 3
   },
   "file_extension": ".py",
   "mimetype": "text/x-python",
   "name": "python",
   "nbconvert_exporter": "python",
   "pygments_lexer": "ipython3",
   "version": "3.10.4"
  }
 },
 "nbformat": 4,
 "nbformat_minor": 2
}
